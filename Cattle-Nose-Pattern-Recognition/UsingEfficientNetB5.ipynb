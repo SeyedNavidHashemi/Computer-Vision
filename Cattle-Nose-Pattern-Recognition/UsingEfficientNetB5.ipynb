{
  "nbformat": 4,
  "nbformat_minor": 0,
  "metadata": {
    "colab": {
      "provenance": [],
      "gpuType": "T4"
    },
    "kernelspec": {
      "name": "python3",
      "display_name": "Python 3"
    },
    "language_info": {
      "name": "python"
    },
    "accelerator": "GPU"
  },
  "cells": [
    {
      "cell_type": "code",
      "source": [
        "from google.colab import drive\n",
        "drive.mount('/content/drive')"
      ],
      "metadata": {
        "colab": {
          "base_uri": "https://localhost:8080/"
        },
        "id": "mh2hckDgymsh",
        "outputId": "d3874a7a-c827-47d9-e043-7258f47095a5"
      },
      "execution_count": 1,
      "outputs": [
        {
          "output_type": "stream",
          "name": "stdout",
          "text": [
            "Drive already mounted at /content/drive; to attempt to forcibly remount, call drive.mount(\"/content/drive\", force_remount=True).\n"
          ]
        }
      ]
    },
    {
      "cell_type": "code",
      "execution_count": 2,
      "metadata": {
        "id": "7N2lMHHJxP_x"
      },
      "outputs": [],
      "source": [
        "import os\n",
        "import json\n",
        "import torch\n",
        "import torch.nn as nn\n",
        "import torch.nn.functional as F\n",
        "from torchvision.models import efficientnet_b5, EfficientNet_B5_Weights\n",
        "from albumentations.pytorch import ToTensorV2\n",
        "import albumentations as A\n",
        "import cv2\n",
        "import random\n",
        "from torch.utils.data import Dataset, DataLoader"
      ]
    },
    {
      "cell_type": "code",
      "source": [
        "DEVICE = torch.device(\"cuda\" if torch.cuda.is_available() else \"cpu\")\n",
        "DRIVE_PATH = \"/content/drive/MyDrive\""
      ],
      "metadata": {
        "id": "5p_ykRF3yqAc"
      },
      "execution_count": 3,
      "outputs": []
    },
    {
      "cell_type": "code",
      "source": [
        "# load config\n",
        "with open(os.path.join(DRIVE_PATH, 'config.json')) as f:\n",
        "    config = json.load(f)\n",
        "\n",
        "# load full state\n",
        "def load_state(path):\n",
        "    with open(path, 'r') as f:\n",
        "        state = json.load(f)\n",
        "    print(f\"✅ Loaded full state from {path}\")\n",
        "    return (\n",
        "        state['config'],\n",
        "        state['split_idx'],\n",
        "        state['known_classes'],\n",
        "        state['unknown_classes'],\n",
        "        state['known_train_paths'],\n",
        "        state['known_val_paths'],\n",
        "        state['unknown_val_paths']\n",
        "    )\n",
        "\n",
        "config, split_idx, known_classes, unknown_classes, known_train_paths, known_val_paths, unknown_val_paths = load_state(\n",
        "    os.path.join(DRIVE_PATH, 'full_state.json')\n",
        ")"
      ],
      "metadata": {
        "colab": {
          "base_uri": "https://localhost:8080/"
        },
        "id": "sslEavZSyp-Y",
        "outputId": "e5b9434f-5315-4f52-d0cb-d5ad784f1943"
      },
      "execution_count": 4,
      "outputs": [
        {
          "output_type": "stream",
          "name": "stdout",
          "text": [
            "✅ Loaded full state from /content/drive/MyDrive/full_state.json\n"
          ]
        }
      ]
    },
    {
      "cell_type": "code",
      "source": [
        "class TripletDataset(Dataset):\n",
        "    def __init__(self, image_paths, transform=None):\n",
        "        self.transform = transform\n",
        "        self.label_to_images = {}\n",
        "        for p in image_paths:\n",
        "            label = p.split(os.sep)[-2]\n",
        "            self.label_to_images.setdefault(label, []).append(p)\n",
        "        self.labels = list(self.label_to_images.keys())\n",
        "\n",
        "    def __len__(self):\n",
        "        return 10000\n",
        "\n",
        "    def __getitem__(self, idx):\n",
        "        anchor_label = random.choice(self.labels)\n",
        "        negative_label = random.choice([l for l in self.labels if l != anchor_label])\n",
        "        anchor_path = random.choice(self.label_to_images[anchor_label])\n",
        "        positive_path = random.choice(self.label_to_images[anchor_label])\n",
        "        negative_path = random.choice(self.label_to_images[negative_label])\n",
        "\n",
        "        def load(path):\n",
        "            img = cv2.imread(path)\n",
        "            img = cv2.cvtColor(img, cv2.COLOR_BGR2RGB)\n",
        "            return self.transform(image=img)['image']\n",
        "\n",
        "        return load(anchor_path), load(positive_path), load(negative_path)\n",
        "\n",
        "transform_eval = A.Compose([\n",
        "    A.Resize(config['img_size'], config['img_size']),\n",
        "    A.Normalize(),\n",
        "    ToTensorV2()\n",
        "])"
      ],
      "metadata": {
        "id": "xnc3dZz8yp8I"
      },
      "execution_count": 5,
      "outputs": []
    },
    {
      "cell_type": "code",
      "source": [
        "val_dataset = TripletDataset(known_val_paths, transform=transform_eval)\n",
        "val_loader = DataLoader(val_dataset, batch_size=config['batch_size'], shuffle=False, num_workers=4)"
      ],
      "metadata": {
        "colab": {
          "base_uri": "https://localhost:8080/"
        },
        "id": "QWSOlEWcyp54",
        "outputId": "36071fd8-b133-47ee-dcad-0bf8c423d502"
      },
      "execution_count": 6,
      "outputs": [
        {
          "output_type": "stream",
          "name": "stderr",
          "text": [
            "/usr/local/lib/python3.11/dist-packages/torch/utils/data/dataloader.py:624: UserWarning: This DataLoader will create 4 worker processes in total. Our suggested max number of worker in current system is 2, which is smaller than what this DataLoader is going to create. Please be aware that excessive worker creation might get DataLoader running slow or even freeze, lower the worker number to avoid potential slowness/freeze if necessary.\n",
            "  warnings.warn(\n"
          ]
        }
      ]
    },
    {
      "cell_type": "code",
      "source": [
        "transform_train = A.Compose([\n",
        "    A.Resize(config['img_size'], config['img_size']),\n",
        "    A.HorizontalFlip(),\n",
        "    A.Normalize(),\n",
        "    ToTensorV2()\n",
        "])\n",
        "\n",
        "train_dataset = TripletDataset(known_train_paths, transform=transform_train)\n",
        "train_loader = DataLoader(train_dataset, batch_size=config['batch_size'], shuffle=True, num_workers=4)"
      ],
      "metadata": {
        "id": "It5OouZgyp3p"
      },
      "execution_count": 7,
      "outputs": []
    },
    {
      "cell_type": "code",
      "source": [
        "class Encoder(nn.Module):\n",
        "    def __init__(self, embedding_dim, freeze_backbone=True):\n",
        "        super().__init__()\n",
        "        weights = EfficientNet_B5_Weights.IMAGENET1K_V1\n",
        "        self.backbone = efficientnet_b5(weights=weights)\n",
        "        self.backbone = nn.Sequential(*list(self.backbone.children())[:-1])\n",
        "        self.head = nn.Sequential(\n",
        "            nn.Flatten(),\n",
        "            nn.Linear(2048, embedding_dim)\n",
        "        )\n",
        "        if freeze_backbone:\n",
        "            for param in self.backbone.parameters():\n",
        "                param.requires_grad = False\n",
        "\n",
        "    def forward(self, x):\n",
        "        x = self.backbone(x)\n",
        "        return self.head(x)"
      ],
      "metadata": {
        "id": "m04NKinHyprM"
      },
      "execution_count": 8,
      "outputs": []
    },
    {
      "cell_type": "code",
      "source": [
        "def load_checkpoint(model_class, optimizer_class, embedding_dim, lr, checkpoint_path):\n",
        "    checkpoint = torch.load(checkpoint_path, map_location=DEVICE)\n",
        "    freeze = checkpoint.get('freeze_backbone', True)\n",
        "\n",
        "    model = model_class(embedding_dim=embedding_dim, freeze_backbone=freeze).to(DEVICE)\n",
        "    model.load_state_dict(checkpoint['model_state_dict'])\n",
        "\n",
        "    if freeze:\n",
        "        optimizer = optimizer_class(model.head.parameters(), lr=lr)\n",
        "    else:\n",
        "        for p in model.backbone.parameters():\n",
        "            p.requires_grad = True\n",
        "        optimizer = optimizer_class(model.parameters(), lr=lr * 0.1)\n",
        "\n",
        "    optimizer.load_state_dict(checkpoint['optimizer_state_dict'])\n",
        "    print(f\"🔁 Resumed from epoch {checkpoint['epoch']} (freeze_backbone={freeze})\")\n",
        "    return model, optimizer, checkpoint['epoch'], freeze"
      ],
      "metadata": {
        "id": "sPQsVrnnzDIO"
      },
      "execution_count": 9,
      "outputs": []
    },
    {
      "cell_type": "code",
      "source": [
        "model, optimizer, start_epoch, freeze_backbone = load_checkpoint(\n",
        "    model_class=Encoder,\n",
        "    optimizer_class=torch.optim.Adam,\n",
        "    embedding_dim=config['embedding_dim'],\n",
        "    lr=config['learning_rate'],\n",
        "    checkpoint_path=config['checkpoint_path']\n",
        ")"
      ],
      "metadata": {
        "colab": {
          "base_uri": "https://localhost:8080/"
        },
        "id": "-M1fQJ-JzFPX",
        "outputId": "16381516-21dc-472a-d517-683fdc024e42"
      },
      "execution_count": 11,
      "outputs": [
        {
          "output_type": "stream",
          "name": "stderr",
          "text": [
            "Downloading: \"https://download.pytorch.org/models/efficientnet_b5_lukemelas-1a07897c.pth\" to /root/.cache/torch/hub/checkpoints/efficientnet_b5_lukemelas-1a07897c.pth\n",
            "100%|██████████| 117M/117M [00:01<00:00, 120MB/s]\n"
          ]
        },
        {
          "output_type": "stream",
          "name": "stdout",
          "text": [
            "🔁 Resumed from epoch 11 (freeze_backbone=False)\n"
          ]
        }
      ]
    },
    {
      "cell_type": "code",
      "source": [
        "class FeatureDataset(Dataset):\n",
        "    def __init__(self, image_paths, transform):\n",
        "        self.image_paths = image_paths\n",
        "        self.transform = transform\n",
        "\n",
        "    def __len__(self):\n",
        "        return len(self.image_paths)\n",
        "\n",
        "    def __getitem__(self, idx):\n",
        "        path = self.image_paths[idx]\n",
        "        img = cv2.imread(path)\n",
        "        img = cv2.cvtColor(img, cv2.COLOR_BGR2RGB)\n",
        "        img = self.transform(image=img)['image']\n",
        "        label = path.split(os.sep)[-2]\n",
        "        return img, label, path"
      ],
      "metadata": {
        "id": "b0_RHU7BzbRn"
      },
      "execution_count": 12,
      "outputs": []
    },
    {
      "cell_type": "code",
      "source": [
        "import os\n",
        "import torch\n",
        "import torch.nn as nn\n",
        "import torch.optim as optim\n",
        "import torch.nn.functional as F\n",
        "from torch.utils.data import DataLoader\n",
        "from tqdm import tqdm\n",
        "\n",
        "DEVICE = torch.device(\"cuda\" if torch.cuda.is_available() else \"cpu\")\n",
        "\n",
        "# مدل Encoder (مثلا با EfficientNet-B5)\n",
        "class Encoder(nn.Module):\n",
        "    def __init__(self, embedding_dim, freeze_backbone=True):\n",
        "        super().__init__()\n",
        "        weights = EfficientNet_B5_Weights.IMAGENET1K_V1\n",
        "        self.backbone = efficientnet_b5(weights=weights)\n",
        "        self.backbone = nn.Sequential(*list(self.backbone.children())[:-1])\n",
        "        self.head = nn.Sequential(\n",
        "            nn.Flatten(),\n",
        "            nn.Linear(2048, embedding_dim)\n",
        "        )\n",
        "        if freeze_backbone:\n",
        "            for param in self.backbone.parameters():\n",
        "                param.requires_grad = False\n",
        "\n",
        "    def forward(self, x):\n",
        "        x = self.backbone(x)\n",
        "        return self.head(x)\n",
        "\n",
        "# تابع محاسبه triplet loss\n",
        "def triplet_loss(anchor, positive, negative, margin=1.0):\n",
        "    pos_dist = F.pairwise_distance(anchor, positive)\n",
        "    neg_dist = F.pairwise_distance(anchor, negative)\n",
        "    loss = torch.relu(pos_dist - neg_dist + margin)\n",
        "    return loss.mean()\n",
        "\n",
        "# ذخیره چک‌پوینت (مدل + آپتیمایزر + اپوک + وضعیت freeze)\n",
        "def save_checkpoint(model, optimizer, epoch, freeze_backbone, path):\n",
        "    os.makedirs(os.path.dirname(path), exist_ok=True)\n",
        "    torch.save({\n",
        "        'epoch': epoch,\n",
        "        'model_state_dict': model.state_dict(),\n",
        "        'optimizer_state_dict': optimizer.state_dict(),\n",
        "        'freeze_backbone': freeze_backbone,\n",
        "    }, path)\n",
        "    print(f\"💾 Checkpoint saved after epoch {epoch}\")\n",
        "\n",
        "# بارگذاری چک‌پوینت\n",
        "def load_checkpoint(model_class, optimizer_class, embedding_dim, lr, checkpoint_path):\n",
        "    checkpoint = torch.load(checkpoint_path, map_location=DEVICE)\n",
        "    freeze = checkpoint.get('freeze_backbone', True)\n",
        "\n",
        "    model = model_class(embedding_dim=embedding_dim, freeze_backbone=freeze).to(DEVICE)\n",
        "    model.load_state_dict(checkpoint['model_state_dict'])\n",
        "\n",
        "    if freeze:\n",
        "        optimizer = optimizer_class(model.head.parameters(), lr=lr)\n",
        "    else:\n",
        "        for p in model.backbone.parameters():\n",
        "            p.requires_grad = True\n",
        "        optimizer = optimizer_class(model.parameters(), lr=lr * 0.1)\n",
        "\n",
        "    optimizer.load_state_dict(checkpoint['optimizer_state_dict'])\n",
        "\n",
        "    start_epoch = checkpoint['epoch']\n",
        "    print(f\"🔁 Resumed from epoch {start_epoch} (freeze_backbone={freeze})\")\n",
        "    return model, optimizer, start_epoch, freeze\n",
        "\n",
        "# تابع اعتبارسنجی\n",
        "def evaluate(model, val_loader):\n",
        "    model.eval()\n",
        "    total_loss = 0\n",
        "    with torch.no_grad():\n",
        "        for anc, pos, neg in val_loader:\n",
        "            anc, pos, neg = anc.to(DEVICE), pos.to(DEVICE), neg.to(DEVICE)\n",
        "            e_anc = model(anc)\n",
        "            e_pos = model(pos)\n",
        "            e_neg = model(neg)\n",
        "            loss = triplet_loss(e_anc, e_pos, e_neg)\n",
        "            total_loss += loss.item()\n",
        "    avg_loss = total_loss / len(val_loader)\n",
        "    print(f\"Validation Loss: {avg_loss:.4f}\")\n",
        "    model.train()\n",
        "    return avg_loss\n",
        "\n",
        "# حلقه آموزش با ادامه از checkpoint\n",
        "def train_encoder_with_checkpoint(model_class, train_loader, val_loader, embedding_dim, lr, checkpoint_path, total_epochs, freeze_epochs):\n",
        "    start_epoch = 0\n",
        "    freeze_backbone = True\n",
        "    best_val_loss = float('inf')\n",
        "\n",
        "    if os.path.exists(checkpoint_path):\n",
        "        model, optimizer, start_epoch, freeze_backbone = load_checkpoint(\n",
        "            model_class=model_class,\n",
        "            optimizer_class=optim.Adam,\n",
        "            embedding_dim=embedding_dim,\n",
        "            lr=lr,\n",
        "            checkpoint_path=checkpoint_path,\n",
        "        )\n",
        "    else:\n",
        "        model = model_class(embedding_dim=embedding_dim, freeze_backbone=True).to(DEVICE)\n",
        "        optimizer = optim.Adam(model.head.parameters(), lr=lr)\n",
        "\n",
        "    model.train()\n",
        "\n",
        "    for epoch in range(start_epoch, total_epochs):\n",
        "        print(f\"Epoch {epoch+1}/{total_epochs} - Freeze backbone: {freeze_backbone}\")\n",
        "        total_loss = 0\n",
        "        for anc, pos, neg in tqdm(train_loader):\n",
        "            anc, pos, neg = anc.to(DEVICE), pos.to(DEVICE), neg.to(DEVICE)\n",
        "            optimizer.zero_grad()\n",
        "            e_anc = model(anc)\n",
        "            e_pos = model(pos)\n",
        "            e_neg = model(neg)\n",
        "            loss = triplet_loss(e_anc, e_pos, e_neg)\n",
        "            loss.backward()\n",
        "            optimizer.step()\n",
        "            total_loss += loss.item()\n",
        "        avg_train_loss = total_loss / len(train_loader)\n",
        "        print(f\"Epoch {epoch+1} - Train Loss: {avg_train_loss:.4f}\")\n",
        "\n",
        "        val_loss = evaluate(model, val_loader)\n",
        "\n",
        "        save_checkpoint(model, optimizer, epoch+1, freeze_backbone, checkpoint_path)\n",
        "\n",
        "        # if val_loss < best_val_loss:\n",
        "        #     best_val_loss = val_loss\n",
        "        #     best_path = checkpoint_path.replace('.pth', '_best.pth')\n",
        "        #     torch.save(model.state_dict(), best_path)\n",
        "        #     print(f\"🔥 Best model saved\")\n",
        "\n",
        "        if freeze_backbone and (epoch + 1) >= freeze_epochs:\n",
        "            print(\"🔓 Unfreezing backbone and updating optimizer...\")\n",
        "            freeze_backbone = False\n",
        "            for p in model.backbone.parameters():\n",
        "                p.requires_grad = True\n",
        "            optimizer = optim.Adam(model.parameters(), lr=lr * 0.1)\n",
        "\n",
        "    print(\"✅ Training complete\")\n",
        "    return model"
      ],
      "metadata": {
        "id": "puskEgTZzmee"
      },
      "execution_count": 19,
      "outputs": []
    },
    {
      "cell_type": "code",
      "source": [
        "model = train_encoder_with_checkpoint(\n",
        "    model_class=Encoder,\n",
        "    train_loader=train_loader,\n",
        "    val_loader=val_loader,\n",
        "    embedding_dim=128,\n",
        "    lr=1e-4,\n",
        "    checkpoint_path=\"/content/drive/MyDrive/checkpoints/encoder_triplet.pth\",\n",
        "    total_epochs=16,  # مثلا 5 اپوک بیشتر از قبل\n",
        "    freeze_epochs=5\n",
        ")"
      ],
      "metadata": {
        "colab": {
          "base_uri": "https://localhost:8080/"
        },
        "id": "7TwEzMHzzo-u",
        "outputId": "1682e535-1d3b-420e-b8a1-fb5e7f8f1d4d"
      },
      "execution_count": 20,
      "outputs": [
        {
          "output_type": "stream",
          "name": "stdout",
          "text": [
            "🔁 Resumed from epoch 12 (freeze_backbone=False)\n",
            "Epoch 13/16 - Freeze backbone: False\n"
          ]
        },
        {
          "output_type": "stream",
          "name": "stderr",
          "text": [
            "100%|██████████| 625/625 [05:54<00:00,  1.76it/s]"
          ]
        },
        {
          "output_type": "stream",
          "name": "stdout",
          "text": [
            "Epoch 13 - Train Loss: 0.0068\n"
          ]
        },
        {
          "output_type": "stream",
          "name": "stderr",
          "text": [
            "\n"
          ]
        },
        {
          "output_type": "stream",
          "name": "stdout",
          "text": [
            "Validation Loss: 0.0055\n",
            "💾 Checkpoint saved after epoch 13\n",
            "Epoch 14/16 - Freeze backbone: False\n"
          ]
        },
        {
          "output_type": "stream",
          "name": "stderr",
          "text": [
            "100%|██████████| 625/625 [06:01<00:00,  1.73it/s]"
          ]
        },
        {
          "output_type": "stream",
          "name": "stdout",
          "text": [
            "Epoch 14 - Train Loss: 0.0058\n"
          ]
        },
        {
          "output_type": "stream",
          "name": "stderr",
          "text": [
            "\n"
          ]
        },
        {
          "output_type": "stream",
          "name": "stdout",
          "text": [
            "Validation Loss: 0.0046\n",
            "💾 Checkpoint saved after epoch 14\n",
            "Epoch 15/16 - Freeze backbone: False\n"
          ]
        },
        {
          "output_type": "stream",
          "name": "stderr",
          "text": [
            "100%|██████████| 625/625 [05:59<00:00,  1.74it/s]"
          ]
        },
        {
          "output_type": "stream",
          "name": "stdout",
          "text": [
            "Epoch 15 - Train Loss: 0.0056\n"
          ]
        },
        {
          "output_type": "stream",
          "name": "stderr",
          "text": [
            "\n"
          ]
        },
        {
          "output_type": "stream",
          "name": "stdout",
          "text": [
            "Validation Loss: 0.0046\n",
            "💾 Checkpoint saved after epoch 15\n",
            "Epoch 16/16 - Freeze backbone: False\n"
          ]
        },
        {
          "output_type": "stream",
          "name": "stderr",
          "text": [
            "100%|██████████| 625/625 [06:01<00:00,  1.73it/s]"
          ]
        },
        {
          "output_type": "stream",
          "name": "stdout",
          "text": [
            "Epoch 16 - Train Loss: 0.0044\n"
          ]
        },
        {
          "output_type": "stream",
          "name": "stderr",
          "text": [
            "\n"
          ]
        },
        {
          "output_type": "stream",
          "name": "stdout",
          "text": [
            "Validation Loss: 0.0032\n",
            "💾 Checkpoint saved after epoch 16\n",
            "✅ Training complete\n"
          ]
        }
      ]
    },
    {
      "cell_type": "code",
      "source": [
        "def extract_embeddings(model, image_paths, transform):\n",
        "    dataset = FeatureDataset(image_paths, transform)\n",
        "    loader = DataLoader(dataset, batch_size=config['batch_size'], shuffle=False)\n",
        "    model.eval()\n",
        "    all_embeddings, all_labels, all_paths = [], [], []\n",
        "    with torch.no_grad():\n",
        "        for imgs, labels, paths in loader:\n",
        "            imgs = imgs.to(DEVICE)\n",
        "            embeddings = model(imgs).cpu()\n",
        "            all_embeddings.append(embeddings)\n",
        "            all_labels.extend(labels)\n",
        "            all_paths.extend(paths)\n",
        "    return torch.cat(all_embeddings), all_labels, all_paths\n",
        "\n",
        "from sklearn.neighbors import NearestNeighbors\n",
        "\n",
        "known_embeddings, known_labels, known_paths = extract_embeddings(model, known_train_paths, transform_eval)\n",
        "knn = NearestNeighbors(n_neighbors=1)\n",
        "knn.fit(known_embeddings)"
      ],
      "metadata": {
        "colab": {
          "base_uri": "https://localhost:8080/",
          "height": 80
        },
        "id": "tEMqzWmpzeHn",
        "outputId": "da4a3186-0588-410d-e0c0-d93509160c4c"
      },
      "execution_count": 21,
      "outputs": [
        {
          "output_type": "execute_result",
          "data": {
            "text/plain": [
              "NearestNeighbors(n_neighbors=1)"
            ],
            "text/html": [
              "<style>#sk-container-id-1 {\n",
              "  /* Definition of color scheme common for light and dark mode */\n",
              "  --sklearn-color-text: #000;\n",
              "  --sklearn-color-text-muted: #666;\n",
              "  --sklearn-color-line: gray;\n",
              "  /* Definition of color scheme for unfitted estimators */\n",
              "  --sklearn-color-unfitted-level-0: #fff5e6;\n",
              "  --sklearn-color-unfitted-level-1: #f6e4d2;\n",
              "  --sklearn-color-unfitted-level-2: #ffe0b3;\n",
              "  --sklearn-color-unfitted-level-3: chocolate;\n",
              "  /* Definition of color scheme for fitted estimators */\n",
              "  --sklearn-color-fitted-level-0: #f0f8ff;\n",
              "  --sklearn-color-fitted-level-1: #d4ebff;\n",
              "  --sklearn-color-fitted-level-2: #b3dbfd;\n",
              "  --sklearn-color-fitted-level-3: cornflowerblue;\n",
              "\n",
              "  /* Specific color for light theme */\n",
              "  --sklearn-color-text-on-default-background: var(--sg-text-color, var(--theme-code-foreground, var(--jp-content-font-color1, black)));\n",
              "  --sklearn-color-background: var(--sg-background-color, var(--theme-background, var(--jp-layout-color0, white)));\n",
              "  --sklearn-color-border-box: var(--sg-text-color, var(--theme-code-foreground, var(--jp-content-font-color1, black)));\n",
              "  --sklearn-color-icon: #696969;\n",
              "\n",
              "  @media (prefers-color-scheme: dark) {\n",
              "    /* Redefinition of color scheme for dark theme */\n",
              "    --sklearn-color-text-on-default-background: var(--sg-text-color, var(--theme-code-foreground, var(--jp-content-font-color1, white)));\n",
              "    --sklearn-color-background: var(--sg-background-color, var(--theme-background, var(--jp-layout-color0, #111)));\n",
              "    --sklearn-color-border-box: var(--sg-text-color, var(--theme-code-foreground, var(--jp-content-font-color1, white)));\n",
              "    --sklearn-color-icon: #878787;\n",
              "  }\n",
              "}\n",
              "\n",
              "#sk-container-id-1 {\n",
              "  color: var(--sklearn-color-text);\n",
              "}\n",
              "\n",
              "#sk-container-id-1 pre {\n",
              "  padding: 0;\n",
              "}\n",
              "\n",
              "#sk-container-id-1 input.sk-hidden--visually {\n",
              "  border: 0;\n",
              "  clip: rect(1px 1px 1px 1px);\n",
              "  clip: rect(1px, 1px, 1px, 1px);\n",
              "  height: 1px;\n",
              "  margin: -1px;\n",
              "  overflow: hidden;\n",
              "  padding: 0;\n",
              "  position: absolute;\n",
              "  width: 1px;\n",
              "}\n",
              "\n",
              "#sk-container-id-1 div.sk-dashed-wrapped {\n",
              "  border: 1px dashed var(--sklearn-color-line);\n",
              "  margin: 0 0.4em 0.5em 0.4em;\n",
              "  box-sizing: border-box;\n",
              "  padding-bottom: 0.4em;\n",
              "  background-color: var(--sklearn-color-background);\n",
              "}\n",
              "\n",
              "#sk-container-id-1 div.sk-container {\n",
              "  /* jupyter's `normalize.less` sets `[hidden] { display: none; }`\n",
              "     but bootstrap.min.css set `[hidden] { display: none !important; }`\n",
              "     so we also need the `!important` here to be able to override the\n",
              "     default hidden behavior on the sphinx rendered scikit-learn.org.\n",
              "     See: https://github.com/scikit-learn/scikit-learn/issues/21755 */\n",
              "  display: inline-block !important;\n",
              "  position: relative;\n",
              "}\n",
              "\n",
              "#sk-container-id-1 div.sk-text-repr-fallback {\n",
              "  display: none;\n",
              "}\n",
              "\n",
              "div.sk-parallel-item,\n",
              "div.sk-serial,\n",
              "div.sk-item {\n",
              "  /* draw centered vertical line to link estimators */\n",
              "  background-image: linear-gradient(var(--sklearn-color-text-on-default-background), var(--sklearn-color-text-on-default-background));\n",
              "  background-size: 2px 100%;\n",
              "  background-repeat: no-repeat;\n",
              "  background-position: center center;\n",
              "}\n",
              "\n",
              "/* Parallel-specific style estimator block */\n",
              "\n",
              "#sk-container-id-1 div.sk-parallel-item::after {\n",
              "  content: \"\";\n",
              "  width: 100%;\n",
              "  border-bottom: 2px solid var(--sklearn-color-text-on-default-background);\n",
              "  flex-grow: 1;\n",
              "}\n",
              "\n",
              "#sk-container-id-1 div.sk-parallel {\n",
              "  display: flex;\n",
              "  align-items: stretch;\n",
              "  justify-content: center;\n",
              "  background-color: var(--sklearn-color-background);\n",
              "  position: relative;\n",
              "}\n",
              "\n",
              "#sk-container-id-1 div.sk-parallel-item {\n",
              "  display: flex;\n",
              "  flex-direction: column;\n",
              "}\n",
              "\n",
              "#sk-container-id-1 div.sk-parallel-item:first-child::after {\n",
              "  align-self: flex-end;\n",
              "  width: 50%;\n",
              "}\n",
              "\n",
              "#sk-container-id-1 div.sk-parallel-item:last-child::after {\n",
              "  align-self: flex-start;\n",
              "  width: 50%;\n",
              "}\n",
              "\n",
              "#sk-container-id-1 div.sk-parallel-item:only-child::after {\n",
              "  width: 0;\n",
              "}\n",
              "\n",
              "/* Serial-specific style estimator block */\n",
              "\n",
              "#sk-container-id-1 div.sk-serial {\n",
              "  display: flex;\n",
              "  flex-direction: column;\n",
              "  align-items: center;\n",
              "  background-color: var(--sklearn-color-background);\n",
              "  padding-right: 1em;\n",
              "  padding-left: 1em;\n",
              "}\n",
              "\n",
              "\n",
              "/* Toggleable style: style used for estimator/Pipeline/ColumnTransformer box that is\n",
              "clickable and can be expanded/collapsed.\n",
              "- Pipeline and ColumnTransformer use this feature and define the default style\n",
              "- Estimators will overwrite some part of the style using the `sk-estimator` class\n",
              "*/\n",
              "\n",
              "/* Pipeline and ColumnTransformer style (default) */\n",
              "\n",
              "#sk-container-id-1 div.sk-toggleable {\n",
              "  /* Default theme specific background. It is overwritten whether we have a\n",
              "  specific estimator or a Pipeline/ColumnTransformer */\n",
              "  background-color: var(--sklearn-color-background);\n",
              "}\n",
              "\n",
              "/* Toggleable label */\n",
              "#sk-container-id-1 label.sk-toggleable__label {\n",
              "  cursor: pointer;\n",
              "  display: flex;\n",
              "  width: 100%;\n",
              "  margin-bottom: 0;\n",
              "  padding: 0.5em;\n",
              "  box-sizing: border-box;\n",
              "  text-align: center;\n",
              "  align-items: start;\n",
              "  justify-content: space-between;\n",
              "  gap: 0.5em;\n",
              "}\n",
              "\n",
              "#sk-container-id-1 label.sk-toggleable__label .caption {\n",
              "  font-size: 0.6rem;\n",
              "  font-weight: lighter;\n",
              "  color: var(--sklearn-color-text-muted);\n",
              "}\n",
              "\n",
              "#sk-container-id-1 label.sk-toggleable__label-arrow:before {\n",
              "  /* Arrow on the left of the label */\n",
              "  content: \"▸\";\n",
              "  float: left;\n",
              "  margin-right: 0.25em;\n",
              "  color: var(--sklearn-color-icon);\n",
              "}\n",
              "\n",
              "#sk-container-id-1 label.sk-toggleable__label-arrow:hover:before {\n",
              "  color: var(--sklearn-color-text);\n",
              "}\n",
              "\n",
              "/* Toggleable content - dropdown */\n",
              "\n",
              "#sk-container-id-1 div.sk-toggleable__content {\n",
              "  max-height: 0;\n",
              "  max-width: 0;\n",
              "  overflow: hidden;\n",
              "  text-align: left;\n",
              "  /* unfitted */\n",
              "  background-color: var(--sklearn-color-unfitted-level-0);\n",
              "}\n",
              "\n",
              "#sk-container-id-1 div.sk-toggleable__content.fitted {\n",
              "  /* fitted */\n",
              "  background-color: var(--sklearn-color-fitted-level-0);\n",
              "}\n",
              "\n",
              "#sk-container-id-1 div.sk-toggleable__content pre {\n",
              "  margin: 0.2em;\n",
              "  border-radius: 0.25em;\n",
              "  color: var(--sklearn-color-text);\n",
              "  /* unfitted */\n",
              "  background-color: var(--sklearn-color-unfitted-level-0);\n",
              "}\n",
              "\n",
              "#sk-container-id-1 div.sk-toggleable__content.fitted pre {\n",
              "  /* unfitted */\n",
              "  background-color: var(--sklearn-color-fitted-level-0);\n",
              "}\n",
              "\n",
              "#sk-container-id-1 input.sk-toggleable__control:checked~div.sk-toggleable__content {\n",
              "  /* Expand drop-down */\n",
              "  max-height: 200px;\n",
              "  max-width: 100%;\n",
              "  overflow: auto;\n",
              "}\n",
              "\n",
              "#sk-container-id-1 input.sk-toggleable__control:checked~label.sk-toggleable__label-arrow:before {\n",
              "  content: \"▾\";\n",
              "}\n",
              "\n",
              "/* Pipeline/ColumnTransformer-specific style */\n",
              "\n",
              "#sk-container-id-1 div.sk-label input.sk-toggleable__control:checked~label.sk-toggleable__label {\n",
              "  color: var(--sklearn-color-text);\n",
              "  background-color: var(--sklearn-color-unfitted-level-2);\n",
              "}\n",
              "\n",
              "#sk-container-id-1 div.sk-label.fitted input.sk-toggleable__control:checked~label.sk-toggleable__label {\n",
              "  background-color: var(--sklearn-color-fitted-level-2);\n",
              "}\n",
              "\n",
              "/* Estimator-specific style */\n",
              "\n",
              "/* Colorize estimator box */\n",
              "#sk-container-id-1 div.sk-estimator input.sk-toggleable__control:checked~label.sk-toggleable__label {\n",
              "  /* unfitted */\n",
              "  background-color: var(--sklearn-color-unfitted-level-2);\n",
              "}\n",
              "\n",
              "#sk-container-id-1 div.sk-estimator.fitted input.sk-toggleable__control:checked~label.sk-toggleable__label {\n",
              "  /* fitted */\n",
              "  background-color: var(--sklearn-color-fitted-level-2);\n",
              "}\n",
              "\n",
              "#sk-container-id-1 div.sk-label label.sk-toggleable__label,\n",
              "#sk-container-id-1 div.sk-label label {\n",
              "  /* The background is the default theme color */\n",
              "  color: var(--sklearn-color-text-on-default-background);\n",
              "}\n",
              "\n",
              "/* On hover, darken the color of the background */\n",
              "#sk-container-id-1 div.sk-label:hover label.sk-toggleable__label {\n",
              "  color: var(--sklearn-color-text);\n",
              "  background-color: var(--sklearn-color-unfitted-level-2);\n",
              "}\n",
              "\n",
              "/* Label box, darken color on hover, fitted */\n",
              "#sk-container-id-1 div.sk-label.fitted:hover label.sk-toggleable__label.fitted {\n",
              "  color: var(--sklearn-color-text);\n",
              "  background-color: var(--sklearn-color-fitted-level-2);\n",
              "}\n",
              "\n",
              "/* Estimator label */\n",
              "\n",
              "#sk-container-id-1 div.sk-label label {\n",
              "  font-family: monospace;\n",
              "  font-weight: bold;\n",
              "  display: inline-block;\n",
              "  line-height: 1.2em;\n",
              "}\n",
              "\n",
              "#sk-container-id-1 div.sk-label-container {\n",
              "  text-align: center;\n",
              "}\n",
              "\n",
              "/* Estimator-specific */\n",
              "#sk-container-id-1 div.sk-estimator {\n",
              "  font-family: monospace;\n",
              "  border: 1px dotted var(--sklearn-color-border-box);\n",
              "  border-radius: 0.25em;\n",
              "  box-sizing: border-box;\n",
              "  margin-bottom: 0.5em;\n",
              "  /* unfitted */\n",
              "  background-color: var(--sklearn-color-unfitted-level-0);\n",
              "}\n",
              "\n",
              "#sk-container-id-1 div.sk-estimator.fitted {\n",
              "  /* fitted */\n",
              "  background-color: var(--sklearn-color-fitted-level-0);\n",
              "}\n",
              "\n",
              "/* on hover */\n",
              "#sk-container-id-1 div.sk-estimator:hover {\n",
              "  /* unfitted */\n",
              "  background-color: var(--sklearn-color-unfitted-level-2);\n",
              "}\n",
              "\n",
              "#sk-container-id-1 div.sk-estimator.fitted:hover {\n",
              "  /* fitted */\n",
              "  background-color: var(--sklearn-color-fitted-level-2);\n",
              "}\n",
              "\n",
              "/* Specification for estimator info (e.g. \"i\" and \"?\") */\n",
              "\n",
              "/* Common style for \"i\" and \"?\" */\n",
              "\n",
              ".sk-estimator-doc-link,\n",
              "a:link.sk-estimator-doc-link,\n",
              "a:visited.sk-estimator-doc-link {\n",
              "  float: right;\n",
              "  font-size: smaller;\n",
              "  line-height: 1em;\n",
              "  font-family: monospace;\n",
              "  background-color: var(--sklearn-color-background);\n",
              "  border-radius: 1em;\n",
              "  height: 1em;\n",
              "  width: 1em;\n",
              "  text-decoration: none !important;\n",
              "  margin-left: 0.5em;\n",
              "  text-align: center;\n",
              "  /* unfitted */\n",
              "  border: var(--sklearn-color-unfitted-level-1) 1pt solid;\n",
              "  color: var(--sklearn-color-unfitted-level-1);\n",
              "}\n",
              "\n",
              ".sk-estimator-doc-link.fitted,\n",
              "a:link.sk-estimator-doc-link.fitted,\n",
              "a:visited.sk-estimator-doc-link.fitted {\n",
              "  /* fitted */\n",
              "  border: var(--sklearn-color-fitted-level-1) 1pt solid;\n",
              "  color: var(--sklearn-color-fitted-level-1);\n",
              "}\n",
              "\n",
              "/* On hover */\n",
              "div.sk-estimator:hover .sk-estimator-doc-link:hover,\n",
              ".sk-estimator-doc-link:hover,\n",
              "div.sk-label-container:hover .sk-estimator-doc-link:hover,\n",
              ".sk-estimator-doc-link:hover {\n",
              "  /* unfitted */\n",
              "  background-color: var(--sklearn-color-unfitted-level-3);\n",
              "  color: var(--sklearn-color-background);\n",
              "  text-decoration: none;\n",
              "}\n",
              "\n",
              "div.sk-estimator.fitted:hover .sk-estimator-doc-link.fitted:hover,\n",
              ".sk-estimator-doc-link.fitted:hover,\n",
              "div.sk-label-container:hover .sk-estimator-doc-link.fitted:hover,\n",
              ".sk-estimator-doc-link.fitted:hover {\n",
              "  /* fitted */\n",
              "  background-color: var(--sklearn-color-fitted-level-3);\n",
              "  color: var(--sklearn-color-background);\n",
              "  text-decoration: none;\n",
              "}\n",
              "\n",
              "/* Span, style for the box shown on hovering the info icon */\n",
              ".sk-estimator-doc-link span {\n",
              "  display: none;\n",
              "  z-index: 9999;\n",
              "  position: relative;\n",
              "  font-weight: normal;\n",
              "  right: .2ex;\n",
              "  padding: .5ex;\n",
              "  margin: .5ex;\n",
              "  width: min-content;\n",
              "  min-width: 20ex;\n",
              "  max-width: 50ex;\n",
              "  color: var(--sklearn-color-text);\n",
              "  box-shadow: 2pt 2pt 4pt #999;\n",
              "  /* unfitted */\n",
              "  background: var(--sklearn-color-unfitted-level-0);\n",
              "  border: .5pt solid var(--sklearn-color-unfitted-level-3);\n",
              "}\n",
              "\n",
              ".sk-estimator-doc-link.fitted span {\n",
              "  /* fitted */\n",
              "  background: var(--sklearn-color-fitted-level-0);\n",
              "  border: var(--sklearn-color-fitted-level-3);\n",
              "}\n",
              "\n",
              ".sk-estimator-doc-link:hover span {\n",
              "  display: block;\n",
              "}\n",
              "\n",
              "/* \"?\"-specific style due to the `<a>` HTML tag */\n",
              "\n",
              "#sk-container-id-1 a.estimator_doc_link {\n",
              "  float: right;\n",
              "  font-size: 1rem;\n",
              "  line-height: 1em;\n",
              "  font-family: monospace;\n",
              "  background-color: var(--sklearn-color-background);\n",
              "  border-radius: 1rem;\n",
              "  height: 1rem;\n",
              "  width: 1rem;\n",
              "  text-decoration: none;\n",
              "  /* unfitted */\n",
              "  color: var(--sklearn-color-unfitted-level-1);\n",
              "  border: var(--sklearn-color-unfitted-level-1) 1pt solid;\n",
              "}\n",
              "\n",
              "#sk-container-id-1 a.estimator_doc_link.fitted {\n",
              "  /* fitted */\n",
              "  border: var(--sklearn-color-fitted-level-1) 1pt solid;\n",
              "  color: var(--sklearn-color-fitted-level-1);\n",
              "}\n",
              "\n",
              "/* On hover */\n",
              "#sk-container-id-1 a.estimator_doc_link:hover {\n",
              "  /* unfitted */\n",
              "  background-color: var(--sklearn-color-unfitted-level-3);\n",
              "  color: var(--sklearn-color-background);\n",
              "  text-decoration: none;\n",
              "}\n",
              "\n",
              "#sk-container-id-1 a.estimator_doc_link.fitted:hover {\n",
              "  /* fitted */\n",
              "  background-color: var(--sklearn-color-fitted-level-3);\n",
              "}\n",
              "</style><div id=\"sk-container-id-1\" class=\"sk-top-container\"><div class=\"sk-text-repr-fallback\"><pre>NearestNeighbors(n_neighbors=1)</pre><b>In a Jupyter environment, please rerun this cell to show the HTML representation or trust the notebook. <br />On GitHub, the HTML representation is unable to render, please try loading this page with nbviewer.org.</b></div><div class=\"sk-container\" hidden><div class=\"sk-item\"><div class=\"sk-estimator fitted sk-toggleable\"><input class=\"sk-toggleable__control sk-hidden--visually\" id=\"sk-estimator-id-1\" type=\"checkbox\" checked><label for=\"sk-estimator-id-1\" class=\"sk-toggleable__label fitted sk-toggleable__label-arrow\"><div><div>NearestNeighbors</div></div><div><a class=\"sk-estimator-doc-link fitted\" rel=\"noreferrer\" target=\"_blank\" href=\"https://scikit-learn.org/1.6/modules/generated/sklearn.neighbors.NearestNeighbors.html\">?<span>Documentation for NearestNeighbors</span></a><span class=\"sk-estimator-doc-link fitted\">i<span>Fitted</span></span></div></label><div class=\"sk-toggleable__content fitted\"><pre>NearestNeighbors(n_neighbors=1)</pre></div> </div></div></div></div>"
            ]
          },
          "metadata": {},
          "execution_count": 21
        }
      ]
    },
    {
      "cell_type": "code",
      "source": [
        "val_paths = known_val_paths + unknown_val_paths\n",
        "val_labels = [p.split(os.sep)[-2] for p in val_paths]\n",
        "\n",
        "val_embeddings, _, _ = extract_embeddings(model, val_paths, transform_eval)\n",
        "dists, _ = knn.kneighbors(val_embeddings)\n",
        "\n",
        "import numpy as np\n",
        "from sklearn.metrics import precision_recall_curve\n",
        "\n",
        "true_known = np.array([1 if l in known_classes else 0 for l in val_labels])\n",
        "prec, rec, thresholds = precision_recall_curve(true_known, -dists.flatten())\n",
        "f1_scores = 2 * (prec * rec) / (prec + rec + 1e-6)\n",
        "best_idx = np.argmax(f1_scores)\n",
        "best_threshold = thresholds[best_idx]\n",
        "print(f\"✅ Best Threshold: {best_threshold:.3f}, F1 Score: {f1_scores[best_idx]:.3f}\")\n"
      ],
      "metadata": {
        "colab": {
          "base_uri": "https://localhost:8080/"
        },
        "id": "KxvRyo4Wzfv-",
        "outputId": "2b22f8c2-5542-4d2f-ba35-e3b7c53d264e"
      },
      "execution_count": 22,
      "outputs": [
        {
          "output_type": "stream",
          "name": "stdout",
          "text": [
            "✅ Best Threshold: -3.095, F1 Score: 0.953\n"
          ]
        }
      ]
    },
    {
      "cell_type": "code",
      "source": [
        "import glob\n",
        "import os\n",
        "from sklearn.metrics import classification_report, accuracy_score, precision_score, recall_score, f1_score\n",
        "\n",
        "# 🔹 مسیر تصاویر تست\n",
        "test_root = os.path.join(DRIVE_PATH, 'test')  # مسیر داده‌های تست: /content/drive/MyDrive/test\n",
        "\n",
        "# 🔹 گرفتن مسیر تمام تصاویر\n",
        "test_paths = glob.glob(os.path.join(test_root, '*', '*.jpg'))\n",
        "\n",
        "# 🔹 گرفتن لیبل واقعی از نام پوشه\n",
        "test_labels = [p.split(os.sep)[-2] for p in test_paths]\n",
        "\n",
        "# 🔹 استخراج embedding با مدل\n",
        "test_embeddings, _, _ = extract_embeddings(model, test_paths, transform_eval)\n",
        "\n",
        "# 🔹 پیدا کردن نزدیک‌ترین همسایه در بین داده‌های train\n",
        "test_dists, test_indices = knn.kneighbors(test_embeddings)\n",
        "\n",
        "# 🔹 پیش‌بینی نهایی: شناخته شده یا ناشناخته + آیدی در صورت شناخته بودن\n",
        "preds = []\n",
        "for dist, idx in zip(test_dists, test_indices):\n",
        "    if -dist[0] > best_threshold:\n",
        "        preds.append(known_labels[idx[0]])  # آیدی شناخته شده\n",
        "    else:\n",
        "        preds.append(\"unknown\")  # ناشناخته\n",
        "\n",
        "# 🔹 لیبل واقعی: اگه در known_classes نباشه، پس ناشناخته‌ست\n",
        "true_cleaned = [label if label in known_classes else \"unknown\" for label in test_labels]\n",
        "\n",
        "# 🔹 گزارش نهایی\n",
        "print(\"📊 Test Results:\")\n",
        "print(\"Acc =\", accuracy_score(true_cleaned, preds))\n",
        "print(\"Prec =\", precision_score(true_cleaned, preds, average='macro', zero_division=0))\n",
        "print(\"Rec =\", recall_score(true_cleaned, preds, average='macro', zero_division=0))\n",
        "print(\"F1 =\", f1_score(true_cleaned, preds, average='macro', zero_division=0))\n"
      ],
      "metadata": {
        "colab": {
          "base_uri": "https://localhost:8080/"
        },
        "id": "NZQDVMeMBt4g",
        "outputId": "21786570-bd41-4d51-8b88-f0963acf4f71"
      },
      "execution_count": 23,
      "outputs": [
        {
          "output_type": "stream",
          "name": "stdout",
          "text": [
            "📊 Test Results:\n",
            "Acc = 0.8921370967741935\n",
            "Prec = 0.9115775579849876\n",
            "Rec = 0.9215350843010417\n",
            "F1 = 0.9066507844290114\n"
          ]
        }
      ]
    },
    {
      "cell_type": "code",
      "source": [
        "import pandas as pd\n",
        "\n",
        "def save_test_results(paths, true_labels, pred_labels, save_dir, filename=\"test_results.csv\"):\n",
        "    os.makedirs(save_dir, exist_ok=True)\n",
        "    df = pd.DataFrame({\n",
        "        'path': paths,\n",
        "        'true_label': true_labels,\n",
        "        'predicted_label': pred_labels,\n",
        "        'is_known': [true != \"unknown\" for true in true_labels]\n",
        "    })\n",
        "    df.to_csv(os.path.join(save_dir, filename), index=False)\n",
        "    print(f\"✅ Results saved to {os.path.join(save_dir, filename)}\")\n",
        "\n",
        "# فرض کن save_dir رو تعریف کردی مثلا:\n",
        "save_dir = os.path.join(DRIVE_PATH, 'results')\n",
        "\n",
        "save_test_results(test_paths, true_cleaned, preds, save_dir)\n"
      ],
      "metadata": {
        "colab": {
          "base_uri": "https://localhost:8080/"
        },
        "id": "Ye1H_gIBBwQJ",
        "outputId": "5a32a7d8-6c8e-4340-f586-9380166416ba"
      },
      "execution_count": 24,
      "outputs": [
        {
          "output_type": "stream",
          "name": "stdout",
          "text": [
            "✅ Results saved to /content/drive/MyDrive/results/test_results.csv\n"
          ]
        }
      ]
    },
    {
      "cell_type": "code",
      "source": [
        "from sklearn.metrics import confusion_matrix, ConfusionMatrixDisplay\n",
        "import matplotlib.pyplot as plt\n",
        "\n",
        "# 🔹 ساخت لیبل‌های باینری برای true و predicted\n",
        "true_binary = ['known' if lbl != 'unknown' else 'unknown' for lbl in true_cleaned]\n",
        "pred_binary = ['known' if lbl != 'unknown' else 'unknown' for lbl in preds]\n",
        "\n",
        "# 🔹 محاسبه و رسم ماتریس\n",
        "cm = confusion_matrix(true_binary, pred_binary, labels=['known', 'unknown'])\n",
        "disp = ConfusionMatrixDisplay(confusion_matrix=cm, display_labels=['known', 'unknown'])\n",
        "disp.plot(cmap=plt.cm.Blues, values_format='d')\n",
        "plt.title(\"Confusion Matrix: Known vs Unknown\")\n",
        "plt.show()\n"
      ],
      "metadata": {
        "colab": {
          "base_uri": "https://localhost:8080/",
          "height": 472
        },
        "id": "S_a_42ZkF-RW",
        "outputId": "407c96c5-0562-4d68-bd29-1285955582b9"
      },
      "execution_count": 26,
      "outputs": [
        {
          "output_type": "display_data",
          "data": {
            "text/plain": [
              "<Figure size 640x480 with 2 Axes>"
            ],
            "image/png": "[encoded data removed]"
          },
          "metadata": {}
        }
      ]
    },
    {
      "cell_type": "code",
      "source": [
        "# فقط نمونه‌هایی که در واقعیت شناخته‌شده هستن\n",
        "known_mask = [label in known_classes for label in test_labels]\n",
        "\n",
        "# لیبل‌های واقعی برای شناخته‌شده‌ها\n",
        "true_known = [label for label in test_labels if label in known_classes]\n",
        "\n",
        "# پیش‌بینی‌های متناظر\n",
        "pred_known = [pred for pred, is_known in zip(preds, known_mask) if is_known]\n",
        "\n",
        "# محاسبه تعداد درست‌ها\n",
        "correct = sum([pred == true for pred, true in zip(pred_known, true_known)])\n",
        "\n",
        "# درصد پیش‌بینی درست آیدی در میان شناخته‌شده‌ها\n",
        "accuracy_known_id = correct / len(true_known) if len(true_known) > 0 else 0\n",
        "\n",
        "print(f\"🎯 Accuracy of ID prediction for known samples: {accuracy_known_id:.3f} ({correct}/{len(true_known)})\")\n"
      ],
      "metadata": {
        "colab": {
          "base_uri": "https://localhost:8080/"
        },
        "id": "GjtTF_B0GbDb",
        "outputId": "71de6973-cb0f-4c96-9b97-a293338adbcd"
      },
      "execution_count": 27,
      "outputs": [
        {
          "output_type": "stream",
          "name": "stdout",
          "text": [
            "🎯 Accuracy of ID prediction for known samples: 0.942 (665/706)\n"
          ]
        }
      ]
    }
  ]
}