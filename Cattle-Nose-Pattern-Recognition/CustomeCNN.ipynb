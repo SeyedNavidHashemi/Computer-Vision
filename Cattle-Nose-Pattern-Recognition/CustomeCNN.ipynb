{
  "cells": [
    {
      "cell_type": "code",
      "source": [
        "import os\n",
        "import random\n",
        "import json\n",
        "from glob import glob\n",
        "\n",
        "def prepare_dataset_paths(train_dir, val_dir, split_ratio=0.66, output_json='dataset_paths.json'):\n",
        "    all_train_classes = sorted([d for d in os.listdir(train_dir) if os.path.isdir(os.path.join(train_dir, d))])\n",
        "    random.shuffle(all_train_classes)\n",
        "\n",
        "    num_known = int(len(all_train_classes) * split_ratio)\n",
        "    known_classes = all_train_classes[:num_known]\n",
        "    unknown_classes = all_train_classes[num_known:]\n",
        "\n",
        "    dataset_paths = {\n",
        "        'known_train': [],\n",
        "        'known_val': [],\n",
        "        'unknown_val': [],\n",
        "        'known_classes': known_classes,\n",
        "        'unknown_classes': unknown_classes,\n",
        "        'detected_val_classes': []\n",
        "    }\n",
        "\n",
        "    for cls in known_classes:\n",
        "        cls_path = os.path.join(train_dir, cls)\n",
        "        images = glob(os.path.join(cls_path, '*'))\n",
        "        dataset_paths['known_train'].extend(images)\n",
        "\n",
        "    val_classes = sorted([d for d in os.listdir(val_dir) if os.path.isdir(os.path.join(val_dir, d))])\n",
        "    dataset_paths['detected_val_classes'] = val_classes\n",
        "\n",
        "    for cls in val_classes:\n",
        "        cls_path = os.path.join(val_dir, cls)\n",
        "        images = glob(os.path.join(cls_path, '*'))\n",
        "        if cls in known_classes:\n",
        "            dataset_paths['known_val'].extend(images)\n",
        "        elif cls in unknown_classes:\n",
        "            dataset_paths['unknown_val'].extend(images)\n",
        "        else:\n",
        "            print(f\"⚠️ کلاس '{cls}' در val وجود دارد ولی نه در known و نه در unknown.\")\n",
        "\n",
        "    overlap = set(known_classes).intersection(set(unknown_classes))\n",
        "    if overlap:\n",
        "        print(\"❌ کلاس‌های مشترک بین known و unknown:\", overlap)\n",
        "    else:\n",
        "        print(\"✅ هیچ اشتراکی بین known و unknown وجود ندارد.\")\n",
        "\n",
        "    with open(output_json, 'w') as f:\n",
        "        json.dump(dataset_paths, f, indent=2)\n",
        "\n",
        "    print(f\"✅ مسیر تصاویر آماده شد و در '{output_json}' ذخیره شد.\")\n",
        "\n",
        "prepare_dataset_paths(\n",
        "    train_dir=\"/content/drive/MyDrive/train\",\n",
        "    val_dir=\"/content/drive/MyDrive/val\",\n",
        "    output_json=\"dataset_paths.json\"\n",
        ")\n"
      ],
      "metadata": {
        "colab": {
          "base_uri": "https://localhost:8080/"
        },
        "id": "J_QkjU1s_XeO",
        "outputId": "c6af6838-b251-43f7-f7a5-441f8df17967"
      },
      "execution_count": 52,
      "outputs": [
        {
          "output_type": "stream",
          "name": "stdout",
          "text": [
            "✅ هیچ اشتراکی بین known و unknown وجود ندارد.\n",
            "✅ مسیر تصاویر آماده شد و در 'dataset_paths.json' ذخیره شد.\n"
          ]
        }
      ]
    },
    {
      "cell_type": "code",
      "source": [
        "import torch\n",
        "import torch.nn as nn\n",
        "\n",
        "class Encoder(nn.Module):\n",
        "    def __init__(self, embedding_dim=128):\n",
        "        super(Encoder, self).__init__()\n",
        "        self.model = nn.Sequential(\n",
        "            nn.Conv2d(3, 32, 3, stride=1, padding=1), nn.ReLU(),\n",
        "            nn.MaxPool2d(2),\n",
        "            nn.Conv2d(32, 64, 3, stride=1, padding=1), nn.ReLU(),\n",
        "            nn.MaxPool2d(2),\n",
        "            nn.Conv2d(64, 128, 3, stride=1, padding=1), nn.ReLU(),\n",
        "            nn.AdaptiveAvgPool2d((1, 1)),\n",
        "            nn.Flatten(),\n",
        "            nn.Linear(128, embedding_dim)\n",
        "        )\n",
        "\n",
        "    def forward(self, x):\n",
        "        return self.model(x)\n"
      ],
      "metadata": {
        "id": "f89A5hZt_Yu1"
      },
      "execution_count": 53,
      "outputs": []
    },
    {
      "cell_type": "code",
      "source": [
        "import cv2\n",
        "import numpy as np\n",
        "from torch.utils.data import Dataset\n",
        "import albumentations as A\n",
        "from albumentations.pytorch import ToTensorV2\n",
        "import json\n",
        "import os\n",
        "\n",
        "IMG_SIZE = 128\n",
        "\n",
        "transform = A.Compose([\n",
        "    A.Resize(IMG_SIZE, IMG_SIZE),\n",
        "    A.HorizontalFlip(p=0.5),\n",
        "    A.RandomBrightnessContrast(p=0.2),\n",
        "    A.Normalize(mean=[0.5,0.5,0.5], std=[0.5,0.5,0.5]),\n",
        "    ToTensorV2()\n",
        "])\n",
        "\n",
        "with open('dataset_paths.json', 'r') as f:\n",
        "    paths = json.load(f)\n",
        "\n",
        "known_train_paths = paths['known_train']\n",
        "\n",
        "class FeatureDataset(Dataset):\n",
        "    def __init__(self, image_paths, transform=None):\n",
        "        self.image_paths = image_paths\n",
        "        self.transform = transform\n",
        "\n",
        "    def __len__(self):\n",
        "        return len(self.image_paths)\n",
        "\n",
        "    def __getitem__(self, idx):\n",
        "        img_path = self.image_paths[idx]\n",
        "        image = cv2.imread(img_path)\n",
        "        if image is None:\n",
        "            raise ValueError(f\"تصویر پیدا نشد: {img_path}\")\n",
        "        image = cv2.cvtColor(image, cv2.COLOR_BGR2RGB)\n",
        "        if self.transform:\n",
        "            image = self.transform(image=image)['image']\n",
        "        return image\n",
        "\n",
        "train_dataset = FeatureDataset(known_train_paths, transform=transform)\n"
      ],
      "metadata": {
        "id": "Cw708-iy_bBZ"
      },
      "execution_count": 54,
      "outputs": []
    },
    {
      "cell_type": "code",
      "source": [
        "from collections import defaultdict\n",
        "\n",
        "def group_images_by_class(image_paths):\n",
        "    class_to_images = defaultdict(list)\n",
        "    for path in image_paths:\n",
        "        cls = os.path.basename(os.path.dirname(path))\n",
        "        class_to_images[cls].append(path)\n",
        "    return class_to_images\n",
        "\n",
        "class_to_images = group_images_by_class(known_train_paths)\n"
      ],
      "metadata": {
        "id": "HnYix2gU_dF3"
      },
      "execution_count": 55,
      "outputs": []
    },
    {
      "cell_type": "code",
      "source": [
        "import random\n",
        "import torch\n",
        "from tqdm import tqdm\n",
        "\n",
        "class ContrastiveDataset(Dataset):\n",
        "    def __init__(self, class_to_images, transform=None, num_pairs_per_class=10):\n",
        "        self.pairs = []\n",
        "        self.labels = []\n",
        "        self.transform = transform\n",
        "        self.class_to_images = class_to_images\n",
        "        classes = list(class_to_images.keys())\n",
        "\n",
        "        print(\"✅ در حال ساخت جفت‌های داده...\")\n",
        "        for cls in tqdm(classes, desc=\"جفت‌های مثبت\"):\n",
        "            imgs = self.class_to_images[cls]\n",
        "            if len(imgs) < 2:\n",
        "                continue\n",
        "            for _ in range(num_pairs_per_class):\n",
        "                img1_path, img2_path = random.sample(imgs, 2)\n",
        "                self.pairs.append((img1_path, img2_path))\n",
        "                self.labels.append(1)\n",
        "\n",
        "        num_negative_pairs = len(self.pairs)\n",
        "        for _ in tqdm(range(num_negative_pairs), desc=\"جفت‌های منفی\"):\n",
        "            cls1, cls2 = random.sample(classes, 2)\n",
        "            img1_path = random.choice(self.class_to_images[cls1])\n",
        "            img2_path = random.choice(self.class_to_images[cls2])\n",
        "            self.pairs.append((img1_path, img2_path))\n",
        "            self.labels.append(0)\n",
        "\n",
        "    def __len__(self):\n",
        "        return len(self.pairs)\n",
        "\n",
        "    def __getitem__(self, idx):\n",
        "        path1, path2 = self.pairs[idx]\n",
        "        label = self.labels[idx]\n",
        "\n",
        "        img1 = cv2.imread(path1)\n",
        "        img2 = cv2.imread(path2)\n",
        "        if img1 is None or img2 is None:\n",
        "            raise ValueError(f\"تصویر خراب: {path1} یا {path2}\")\n",
        "\n",
        "        img1 = cv2.cvtColor(img1, cv2.COLOR_BGR2RGB)\n",
        "        img2 = cv2.cvtColor(img2, cv2.COLOR_BGR2RGB)\n",
        "\n",
        "        if self.transform:\n",
        "            img1 = self.transform(image=img1)['image']\n",
        "            img2 = self.transform(image=img2)['image']\n",
        "\n",
        "        return img1, img2, torch.tensor(label, dtype=torch.float32)\n",
        "\n",
        "contrastive_dataset = ContrastiveDataset(class_to_images, transform=transform)\n"
      ],
      "metadata": {
        "colab": {
          "base_uri": "https://localhost:8080/"
        },
        "id": "ibzc1PmZ_fMa",
        "outputId": "6320d52d-4f74-4ee2-bd6b-09a1ca6e554a"
      },
      "execution_count": 56,
      "outputs": [
        {
          "output_type": "stream",
          "name": "stdout",
          "text": [
            "✅ در حال ساخت جفت‌های داده...\n"
          ]
        },
        {
          "output_type": "stream",
          "name": "stderr",
          "text": [
            "جفت‌های مثبت: 100%|██████████| 176/176 [00:00<00:00, 25743.59it/s]\n",
            "جفت‌های منفی: 100%|██████████| 1760/1760 [00:00<00:00, 310388.72it/s]\n"
          ]
        }
      ]
    },
    {
      "cell_type": "code",
      "source": [
        "from torch.utils.data import DataLoader\n",
        "\n",
        "contrastive_loader = DataLoader(\n",
        "    contrastive_dataset,\n",
        "    batch_size=32,\n",
        "    shuffle=True,\n",
        "    num_workers=2,\n",
        "    pin_memory=True\n",
        ")"
      ],
      "metadata": {
        "id": "A-ov6AwD_h-G"
      },
      "execution_count": 57,
      "outputs": []
    },
    {
      "cell_type": "code",
      "source": [
        "import torch\n",
        "\n",
        "DEVICE = torch.device(\"cuda\" if torch.cuda.is_available() else \"cpu\")\n",
        "print(f\"✅ DEVICE = {DEVICE}\")\n",
        "\n",
        "encoder = Encoder(embedding_dim=128).to(DEVICE)\n",
        "optimizer = torch.optim.Adam(encoder.parameters(), lr=0.001)"
      ],
      "metadata": {
        "colab": {
          "base_uri": "https://localhost:8080/"
        },
        "id": "ntIxCkvi_kDD",
        "outputId": "04332c7d-2758-4d59-be55-9156de7d0494"
      },
      "execution_count": 58,
      "outputs": [
        {
          "output_type": "stream",
          "name": "stdout",
          "text": [
            "✅ DEVICE = cuda\n"
          ]
        }
      ]
    },
    {
      "cell_type": "code",
      "source": [
        "import torch.nn.functional as F\n",
        "\n",
        "def contrastive_loss(embedding1, embedding2, label, margin=1.0):\n",
        "    distance = F.pairwise_distance(embedding1, embedding2)\n",
        "    loss = label * torch.pow(distance, 2) + \\\n",
        "           (1 - label) * torch.pow(torch.clamp(margin - distance, min=0.0), 2)\n",
        "    return loss.mean()"
      ],
      "metadata": {
        "id": "MxQWW0kv_ma8"
      },
      "execution_count": 59,
      "outputs": []
    },
    {
      "cell_type": "code",
      "source": [
        "import os\n",
        "from tqdm import tqdm\n",
        "\n",
        "def train_encoder_contrastive_with_checkpoint(model, dataloader, optimizer,\n",
        "                                              epochs=1,\n",
        "                                              checkpoint_path=\"/content/drive/MyDrive/checkpoints/encoder_checkpoint.pth\"):\n",
        "    # اگر فولدر وجود نداره بسازش\n",
        "    os.makedirs(os.path.dirname(checkpoint_path), exist_ok=True)\n",
        "\n",
        "    start_epoch = 0\n",
        "    if os.path.exists(checkpoint_path):\n",
        "        print(\"🟡 Checkpoint موجود است، در حال بارگذاری...\")\n",
        "        checkpoint = torch.load(checkpoint_path)\n",
        "        model.load_state_dict(checkpoint['model_state_dict'])\n",
        "        optimizer.load_state_dict(checkpoint['optimizer_state_dict'])\n",
        "        start_epoch = checkpoint['epoch'] + 1\n",
        "        print(f\"✅ ادامه آموزش از epoch {start_epoch}\")\n",
        "\n",
        "    model.train()\n",
        "    for epoch in range(start_epoch, epochs):\n",
        "        total_loss = 0.0\n",
        "        for img1, img2, labels in tqdm(dataloader, desc=f\"Epoch {epoch+1}/{epochs}\"):\n",
        "            img1, img2, labels = img1.to(DEVICE), img2.to(DEVICE), labels.to(DEVICE)\n",
        "            optimizer.zero_grad()\n",
        "            emb1 = model(img1)\n",
        "            emb2 = model(img2)\n",
        "            loss = contrastive_loss(emb1, emb2, labels)\n",
        "            loss.backward()\n",
        "            optimizer.step()\n",
        "            total_loss += loss.item()\n",
        "\n",
        "        avg_loss = total_loss / len(dataloader)\n",
        "        print(f\"Epoch {epoch+1} - Loss: {avg_loss:.4f}\")\n",
        "\n",
        "        torch.save({\n",
        "            'epoch': epoch,\n",
        "            'model_state_dict': model.state_dict(),\n",
        "            'optimizer_state_dict': optimizer.state_dict()\n",
        "        }, checkpoint_path)\n",
        "        print(f\"💾 Checkpoint ذخیره شد: {checkpoint_path}\")\n",
        "\n",
        "    print(\"🎉 آموزش کامل شد.\")\n"
      ],
      "metadata": {
        "id": "cUk-HJw8_q70"
      },
      "execution_count": 72,
      "outputs": []
    },
    {
      "cell_type": "code",
      "source": [
        "train_encoder_contrastive_with_checkpoint(\n",
        "    encoder,\n",
        "    contrastive_loader,\n",
        "    optimizer,\n",
        "    epochs=20,  # اول یک اپوک برای تست\n",
        "    checkpoint_path=\"/content/drive/MyDrive/checkpoints/encoder_checkpoint.pth\"\n",
        ")"
      ],
      "metadata": {
        "colab": {
          "base_uri": "https://localhost:8080/"
        },
        "id": "azIgEn2o_2iA",
        "outputId": "31bfaa79-9db1-4f0c-97f0-4252418ec30d"
      },
      "execution_count": 77,
      "outputs": [
        {
          "output_type": "stream",
          "name": "stdout",
          "text": [
            "🟡 Checkpoint موجود است، در حال بارگذاری...\n",
            "✅ ادامه آموزش از epoch 15\n"
          ]
        },
        {
          "output_type": "stream",
          "name": "stderr",
          "text": [
            "Epoch 16/20: 100%|██████████| 110/110 [01:03<00:00,  1.74it/s]\n"
          ]
        },
        {
          "output_type": "stream",
          "name": "stdout",
          "text": [
            "Epoch 16 - Loss: 0.0676\n",
            "💾 Checkpoint ذخیره شد: /content/drive/MyDrive/checkpoints/encoder_checkpoint.pth\n"
          ]
        },
        {
          "output_type": "stream",
          "name": "stderr",
          "text": [
            "Epoch 17/20: 100%|██████████| 110/110 [01:01<00:00,  1.79it/s]\n"
          ]
        },
        {
          "output_type": "stream",
          "name": "stdout",
          "text": [
            "Epoch 17 - Loss: 0.0677\n",
            "💾 Checkpoint ذخیره شد: /content/drive/MyDrive/checkpoints/encoder_checkpoint.pth\n"
          ]
        },
        {
          "output_type": "stream",
          "name": "stderr",
          "text": [
            "Epoch 18/20: 100%|██████████| 110/110 [01:01<00:00,  1.78it/s]\n"
          ]
        },
        {
          "output_type": "stream",
          "name": "stdout",
          "text": [
            "Epoch 18 - Loss: 0.0664\n",
            "💾 Checkpoint ذخیره شد: /content/drive/MyDrive/checkpoints/encoder_checkpoint.pth\n"
          ]
        },
        {
          "output_type": "stream",
          "name": "stderr",
          "text": [
            "Epoch 19/20: 100%|██████████| 110/110 [01:00<00:00,  1.82it/s]\n"
          ]
        },
        {
          "output_type": "stream",
          "name": "stdout",
          "text": [
            "Epoch 19 - Loss: 0.0682\n",
            "💾 Checkpoint ذخیره شد: /content/drive/MyDrive/checkpoints/encoder_checkpoint.pth\n"
          ]
        },
        {
          "output_type": "stream",
          "name": "stderr",
          "text": [
            "Epoch 20/20: 100%|██████████| 110/110 [01:01<00:00,  1.79it/s]"
          ]
        },
        {
          "output_type": "stream",
          "name": "stdout",
          "text": [
            "Epoch 20 - Loss: 0.0674\n",
            "💾 Checkpoint ذخیره شد: /content/drive/MyDrive/checkpoints/encoder_checkpoint.pth\n",
            "🎉 آموزش کامل شد.\n"
          ]
        },
        {
          "output_type": "stream",
          "name": "stderr",
          "text": [
            "\n"
          ]
        }
      ]
    },
    {
      "cell_type": "code",
      "source": [
        "# ---------------------- سلول جدید: کدهای ارزیابی با Confusion Matrix ----------------------\n",
        "import os\n",
        "import torch\n",
        "from torch.utils.data import DataLoader\n",
        "import numpy as np\n",
        "from sklearn.metrics import roc_auc_score, precision_recall_curve, classification_report, confusion_matrix, ConfusionMatrixDisplay\n",
        "import matplotlib.pyplot as plt\n",
        "import seaborn as sns\n",
        "from tqdm import tqdm\n",
        "from sklearn.neighbors import NearestNeighbors\n",
        "import json\n",
        "\n",
        "# 1. آماده‌سازی دیتاست‌ها (فرض می‌کنیم این بخش قبلا تعریف شده)\n",
        "with open('dataset_paths.json', 'r') as f:\n",
        "    paths = json.load(f)\n",
        "known_train_paths = paths['known_train']\n",
        "known_val_paths = paths['known_val']\n",
        "unknown_val_paths = paths['unknown_val']\n",
        "\n",
        "known_train_dataset = FeatureDataset(known_train_paths, transform=transform)\n",
        "known_val_dataset = FeatureDataset(known_val_paths, transform=transform)\n",
        "unknown_val_dataset = FeatureDataset(unknown_val_paths, transform=transform)\n",
        "\n",
        "# 2. استخراج Embedding ها (فرض می‌کنیم تابع extract_embeddings قبلا تعریف شده)\n",
        "def extract_embeddings(model, dataloader, device):\n",
        "    model.eval()\n",
        "    embeddings = []\n",
        "    with torch.no_grad():\n",
        "        for images in tqdm(dataloader, desc=\"Extracting Embeddings\"):\n",
        "            images = images.to(device)\n",
        "            emb = model(images)\n",
        "            embeddings.append(emb.cpu())\n",
        "    embeddings = torch.cat(embeddings).numpy()\n",
        "    return embeddings\n",
        "\n",
        "# بارگذاری مدل آموزش دیده\n",
        "DEVICE = torch.device(\"cuda\" if torch.cuda.is_available() else \"cpu\")\n",
        "encoder = Encoder(embedding_dim=128).to(DEVICE)\n",
        "encoder.load_state_dict(torch.load(\"/content/drive/MyDrive/checkpoints/encoder_checkpoint.pth\")['model_state_dict'])\n",
        "\n",
        "known_train_loader = DataLoader(known_train_dataset, batch_size=32, shuffle=False)\n",
        "known_val_loader = DataLoader(known_val_dataset, batch_size=32, shuffle=False)\n",
        "unknown_val_loader = DataLoader(unknown_val_dataset, batch_size=32, shuffle=False)\n",
        "\n",
        "print(\"\\n🚀 در حال استخراج Embeddingها...\")\n",
        "known_train_emb = extract_embeddings(encoder, known_train_loader, DEVICE)\n",
        "known_val_emb = extract_embeddings(encoder, known_val_loader, DEVICE)\n",
        "unknown_val_emb = extract_embeddings(encoder, unknown_val_loader, DEVICE)\n",
        "\n",
        "# 3. محاسبه فاصله‌ها از نزدیک‌ترین همسایه در مجموعه آموزشی\n",
        "print(\"\\n✅ در حال آموزش NearestNeighbors روی مجموعه آموزشی...\")\n",
        "nbrs = NearestNeighbors(n_neighbors=1, algorithm='auto').fit(known_train_emb)\n",
        "dist_known_val, _ = nbrs.kneighbors(known_val_emb)\n",
        "dist_known_val = dist_known_val.flatten()\n",
        "dist_unknown_val, _ = nbrs.kneighbors(unknown_val_emb)\n",
        "dist_unknown_val = dist_unknown_val.flatten()\n",
        "\n",
        "# 4. نمایش توزیع فاصله‌ها (هیستوگرام)\n",
        "plt.figure(figsize=(10, 6))\n",
        "sns.histplot(dist_known_val, color='green', label='Known', kde=True, bins=50)\n",
        "sns.histplot(dist_unknown_val, color='red', label='Unknown', kde=True, bins=50)\n",
        "plt.title('Distribution of Distances to Nearest Neighbor in Training Set')\n",
        "plt.xlabel('Distance')\n",
        "plt.ylabel('Frequency')\n",
        "plt.legend()\n",
        "plt.savefig('distance_histogram.png')\n",
        "plt.show()\n",
        "\n",
        "# 5. ارزیابی با بهترین آستانه و ROC AUC\n",
        "y_true = np.concatenate([np.zeros_like(dist_known_val), np.ones_like(dist_unknown_val)])\n",
        "y_scores = np.concatenate([dist_known_val, dist_unknown_val])\n",
        "\n",
        "auc = roc_auc_score(y_true, y_scores)\n",
        "print(f\"\\nROC AUC: {auc:.4f}\")\n",
        "\n",
        "precision, recall, thresholds = precision_recall_curve(y_true, y_scores)\n",
        "f1_scores = 2 * precision * recall / (precision + recall + 1e-8)\n",
        "best_idx = np.argmax(f1_scores)\n",
        "best_threshold = thresholds[best_idx]\n",
        "print(f\"بهترین threshold بر اساس F1 score: {best_threshold:.4f}\")\n",
        "\n",
        "y_pred = (y_scores >= best_threshold).astype(int)\n",
        "print(classification_report(y_true, y_pred, target_names=['Known', 'Unknown']))\n",
        "\n",
        "# 6. اضافه شدن Confusion Matrix\n",
        "print(\"\\n📊 Confusion Matrix:\")\n",
        "cm = confusion_matrix(y_true, y_pred, labels=[0, 1])\n",
        "disp = ConfusionMatrixDisplay(confusion_matrix=cm, display_labels=['Known', 'Unknown'])\n",
        "disp.plot(cmap=plt.cm.Blues)\n",
        "plt.title('Confusion Matrix')\n",
        "plt.savefig('confusion_matrix.png')\n",
        "plt.show()"
      ],
      "metadata": {
        "colab": {
          "base_uri": "https://localhost:8080/",
          "height": 1000
        },
        "id": "nW9QRLs2Gl5u",
        "outputId": "3546374b-1fd2-4a46-8f7c-78f7f8b485c3"
      },
      "execution_count": 78,
      "outputs": [
        {
          "output_type": "stream",
          "name": "stdout",
          "text": [
            "\n",
            "🚀 در حال استخراج Embeddingها...\n"
          ]
        },
        {
          "output_type": "stream",
          "name": "stderr",
          "text": [
            "Extracting Embeddings: 100%|██████████| 71/71 [00:22<00:00,  3.16it/s]\n",
            "Extracting Embeddings: 100%|██████████| 13/13 [00:04<00:00,  3.00it/s]\n",
            "Extracting Embeddings: 100%|██████████| 7/7 [00:02<00:00,  3.46it/s]\n"
          ]
        },
        {
          "output_type": "stream",
          "name": "stdout",
          "text": [
            "\n",
            "✅ در حال آموزش NearestNeighbors روی مجموعه آموزشی...\n"
          ]
        },
        {
          "output_type": "display_data",
          "data": {
            "text/plain": [
              "<Figure size 1000x600 with 1 Axes>"
            ],
            "image/png": "[encoded data removed]"
          },
          "metadata": {}
        },
        {
          "output_type": "stream",
          "name": "stdout",
          "text": [
            "\n",
            "ROC AUC: 0.7913\n",
            "بهترین threshold بر اساس F1 score: 0.0436\n",
            "              precision    recall  f1-score   support\n",
            "\n",
            "       Known       0.87      0.67      0.76       403\n",
            "     Unknown       0.55      0.80      0.65       200\n",
            "\n",
            "    accuracy                           0.71       603\n",
            "   macro avg       0.71      0.73      0.70       603\n",
            "weighted avg       0.76      0.71      0.72       603\n",
            "\n",
            "\n",
            "📊 Confusion Matrix:\n"
          ]
        },
        {
          "output_type": "display_data",
          "data": {
            "text/plain": [
              "<Figure size 640x480 with 2 Axes>"
            ],
            "image/png": "[encoded data removed]"
          },
          "metadata": {}
        }
      ]
    }
  ],
  "metadata": {
    "accelerator": "GPU",
    "colab": {
      "gpuType": "T4",
      "provenance": []
    },
    "kernelspec": {
      "display_name": "Python 3",
      "name": "python3"
    },
    "language_info": {
      "name": "python"
    }
  },
  "nbformat": 4,
  "nbformat_minor": 0
}